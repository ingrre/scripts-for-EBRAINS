{
 "cells": [
  {
   "cell_type": "markdown",
   "metadata": {},
   "source": [
    "## Create persons\n",
    "\n",
    "With this script you can make persons, including their ORCID and email address, from an excel file and upload them to the Knowledge Graph directly.\n",
    "\n",
    "The steps in the notebook are as follows:\n",
    "1. Create persons, ORCID and contactInformation (i.e. email address) instances from an excel file\n",
    "2. Post the newly created instances to the KGE\n",
    "\n",
    "An overview of the newly created instances with their persistent identifiers are saved in the output folder.\n",
    "\n",
    "To be able to run the script, you need to the following requirements:\n",
    "- Python version >= 3.6\n",
    "- openMINDS package (can be downloaded from https://pypi.org/project/openMINDS/)\n",
    "- read and write permission to the KG via the API\n"
   ]
  },
  {
   "cell_type": "code",
   "execution_count": null,
   "metadata": {},
   "outputs": [],
   "source": [
    "# import relevant packages\n",
    "from getpass import getpass\n",
    "import requests\n",
    "import os\n",
    "import json\n",
    "import glob\n",
    "import pandas as pd\n",
    "import openMINDS\n",
    "import openMINDS.version_manager"
   ]
  },
  {
   "cell_type": "markdown",
   "metadata": {},
   "source": [
    "### Import relevant information\n",
    "\n",
    "Give the path to the file and the file name with the person metadata."
   ]
  },
  {
   "cell_type": "code",
   "execution_count": null,
   "metadata": {},
   "outputs": [],
   "source": [
    "# Place the script in the same folder as the csv file or define Location of the files\n",
    "cwd = os.getcwd()\n",
    "\n",
    "answer = \"\"\n",
    "while answer not in [\"y\", \"n\"]: \n",
    "    answer = input(f\"Is this where your files are stored: {cwd}? yes (y) or no (n) \" ) \n",
    "    if answer == \"y\":\n",
    "        fpath = cwd\n",
    "        break\n",
    "    elif answer == \"n\":\n",
    "        fpath = input(\"Please define you path: \")\n",
    "        break\n",
    "\n",
    "# Load information for the persons\n",
    "person_file = input(\"What is name of the file with the person information? \")\n",
    "personList = pd.read_excel(os.path.join(cwd, person_file + '.xlsx'))\n",
    "\n",
    "output_path = os.path.join(fpath, \"instances_\" + person_file)\n",
    "print(f\"The output folder is {output_path}\")"
   ]
  },
  {
   "cell_type": "markdown",
   "metadata": {},
   "source": [
    "### Create instances for persons\n",
    "\n",
    "To create instances that are conform with openMINDS, we make use of the openMINDS python package."
   ]
  },
  {
   "cell_type": "code",
   "execution_count": null,
   "metadata": {},
   "outputs": [],
   "source": [
    "# Initialise the local copy of openMINDS\n",
    "openMINDS.version_manager.init()\n",
    "openMINDS.version_manager.version_selection('v3')\n",
    "helper = openMINDS.Helper()"
   ]
  },
  {
   "cell_type": "code",
   "execution_count": null,
   "metadata": {},
   "outputs": [],
   "source": [
    "# Function to create person instances including email address and orcid instances (if available)\n",
    "def createInstances(df): \n",
    "    \"\"\"\n",
    "    \n",
    "    Parameters\n",
    "    ----------\n",
    "    df : pandas DataFrame\n",
    "        DataFrame with information to person instances including email address and orcid instances\n",
    "\n",
    "    Returns\n",
    "    -------\n",
    "    data : pandas DataFrame\n",
    "        Overview of all information and newly created instances.\n",
    "\n",
    "    \"\"\"\n",
    "\n",
    "    person_dict = {}\n",
    "    email_dict = {}\n",
    "    orcid_dict = {}\n",
    "    data = pd.DataFrame([])\n",
    "    for num in range(len(df)):\n",
    "\n",
    "        print(f\"Creating person: {str(df.firstName[num])} {str(df.lastName[num])}\\n\")\n",
    "\n",
    "        # initiate the collection into which you will store all metadata instances\n",
    "        mycol = helper.create_collection()\n",
    "        \n",
    "        # create a metadata instance for (e.g.) the openMINDS Person schema\n",
    "        person_dict[df.firstName[num]] = mycol.add_core_person(givenName = df.firstName[num])\n",
    "\n",
    "        # add more metadata to a created instance\n",
    "        mycol.get(person_dict[df.firstName[num]]).familyName = df.lastName[num]\n",
    "        \n",
    "        # if an email address exists, make the contact information and then add to person instance\n",
    "        if pd.isnull(df.email[num]):\n",
    "            email_dict[df.firstName[num]] = None\n",
    "        else: \n",
    "            email_dict[df.firstName[num]] = mycol.add_core_contactInformation(email=df.email[num])\n",
    "        \n",
    "        mycol.get(person_dict[df.firstName[num]]).contactInformation = email_dict[df.firstName[num]]\n",
    "\n",
    "        # if orcid exists, make orcid and then add to person instance\n",
    "        if pd.isnull(df.ORCID[num]):\n",
    "            orcid_dict[df.firstName[num]] = None\n",
    "        else: \n",
    "            orcid_dict[df.firstName[num]] = mycol.add_core_ORCID(identifier=df.ORCID[num])\n",
    "        \n",
    "        mycol.get(person_dict[df.firstName[num]]).digitalIdentifier = orcid_dict[df.firstName[num]]\n",
    "\n",
    "\n",
    "        data = data.append(pd.DataFrame({\"firstName\" : df.firstName[num],\n",
    "            \"lastName\" : df.lastName[num],\n",
    "            \"person_uuid\" : person_dict[df.firstName[num]].split(\"/\")[-1],  \n",
    "            \"email\" : df.email[num],\n",
    "            \"email_uuid\" : email_dict[df.firstName[num]].split(\"/\")[-1],\n",
    "            \"orcid\" : df.ORCID[num],\n",
    "            \"orcid_uuid\" : orcid_dict[df.firstName[num]].split(\"/\")[-1]},                \n",
    "                        index=[0]), ignore_index=True)\n",
    "\n",
    "        mycol.save(os.path.join(output_path, \"\"))  \n",
    "    \n",
    "    return data\n"
   ]
  },
  {
   "cell_type": "markdown",
   "metadata": {},
   "source": [
    "Run the cell below to create the instances and save an overview file in the output folder"
   ]
  },
  {
   "cell_type": "code",
   "execution_count": null,
   "metadata": {},
   "outputs": [],
   "source": [
    "# Create instances and save them    \n",
    "data = createInstances(personList)\n",
    "\n",
    "if data.empty:\n",
    "    print(\"No instances were created. Try again\")\n",
    "else:\n",
    "    savedInstances = os.path.join(output_path, \"createdPersons.csv\")\n",
    "    data.to_csv(savedInstances, index = False, header=True)"
   ]
  },
  {
   "cell_type": "markdown",
   "metadata": {},
   "source": [
    "### Authentication\n",
    "\n",
    "To be able to upload the newly created instances directly to the Knowledge Graph editor via the API, you need an access token. To request a token, follow this link: https://nexus-iam.humanbrainproject.org/v0/oauth2/authorize or copy your token from the Knowledge Graph Editor (if you have access)."
   ]
  },
  {
   "cell_type": "code",
   "execution_count": null,
   "metadata": {},
   "outputs": [],
   "source": [
    "token = \"\"#getpass(prompt='Please paste your token: ')"
   ]
  },
  {
   "cell_type": "markdown",
   "metadata": {},
   "source": [
    "## Upload instances to the KGE\n",
    "\n",
    "With the upload function we can directly upload the newly created instances to the correct space in the editor."
   ]
  },
  {
   "cell_type": "code",
   "execution_count": null,
   "metadata": {},
   "outputs": [],
   "source": [
    "# Function to upload the instances to the KGE\n",
    "def upload(instances_fnames, token, space_name):\n",
    "    \"\"\"\n",
    "    \n",
    "    Parameters\n",
    "    ----------\n",
    "    instances_fnames : List \n",
    "        list of file paths to instances that need to be uploaded\n",
    "    token : string\n",
    "        Authorisation token to get access to the KGE\n",
    "    space_name : string\n",
    "        Space that the instances needs to be uploaded to, e.g. \"dataset\", \"common\", etc.\n",
    "\n",
    "    Returns\n",
    "    -------\n",
    "    response : dictionary\n",
    "        For each UUID as response is stored that indications if the upload \n",
    "        was successful\n",
    "\n",
    "    \"\"\"\n",
    "    \n",
    "    hed = {\"accept\": \"*/*\",\n",
    "           \"Authorization\": \"Bearer \" + token,\n",
    "           \"Content-Type\": \"application/json\"\n",
    "           }\n",
    "    \n",
    "    # Prefix to upload to the right space\n",
    "    url = \"https://core.kg.ebrains.eu/v3-beta/instances/{}?space=\" + space_name\n",
    "    kg_prefix = \"https://kg.ebrains.eu/api/instances/\"\n",
    "    \n",
    "    new_instances = []\n",
    "    for fname in instances_fnames:\n",
    "        with open(fname, 'r') as f:\n",
    "            new_instances.append(json.load(f))\n",
    "        f.close()\n",
    "    \n",
    "    # Correct the capitalisation in the openMINDS package\n",
    "    for instance in new_instances:\n",
    "        atid = kg_prefix + instance[\"@id\"].split(\"/\")[-1] #only take the UUID \n",
    "        instance[\"@id\"] = atid\n",
    "        if \"contactInformation\" in instance.keys():\n",
    "            atid = kg_prefix + instance[\"contactInformation\"].split(\"/\")[-1] #only take the UUID \n",
    "            instance[\"contactInformation\"] = atid\n",
    "        if \"digitalIdentifier\" in instance.keys():\n",
    "            atid = kg_prefix + instance[\"digitalIdentifier\"].split(\"/\")[-1] #only take the UUID \n",
    "            instance[\"digitalIdentifier\"] = atid\n",
    "        if instance[\"@type\"].endswith(\"Contactinformation\"):\n",
    "            splittype = instance[\"@type\"].split(\"/\")[:-1]\n",
    "            splittype.append(\"ContactInformation\")\n",
    "            instance[\"@type\"] = \"/\".join(splittype)\n",
    "        if instance[\"@type\"].endswith(\"Orcid\"):\n",
    "            splittype = instance[\"@type\"].split(\"/\")[:-1]\n",
    "            splittype.append(\"ORCID\")\n",
    "            instance[\"@type\"] = \"/\".join(splittype)\n",
    "    \n",
    "    # Upload to the KGE\n",
    "    print(\"\\nUploading instances now:\\n\")\n",
    "    \n",
    "    count = 0\n",
    "    response = {}    \n",
    "    for instance in new_instances:\n",
    "        count += 1\n",
    "        print(\"Posting instance \" + str(count)+\"/\"+str(len(new_instances)))\n",
    "        atid = instance[\"@id\"].split(\"/\")[-1] \n",
    "        response[atid] = requests.post(url.format(atid), json=instance, headers=hed)\n",
    "        if response[atid].status_code == 200:\n",
    "            print(response[atid], \"OK!\" )\n",
    "        elif response[atid].status_code == 409:\n",
    "            print(response[atid], \"Instance already exists\")\n",
    "        elif response[atid].status_code == 401:\n",
    "            print(response[atid], \"Token not valid, authorisation not successful\")\n",
    "        else:\n",
    "            print(response[atid])\n",
    "        \n",
    "        \n",
    "    return response  "
   ]
  },
  {
   "cell_type": "markdown",
   "metadata": {},
   "source": [
    "Running the cell will upload the instances to the KGE"
   ]
  },
  {
   "cell_type": "code",
   "execution_count": null,
   "metadata": {},
   "outputs": [],
   "source": [
    "# Upload instances to the KGE\n",
    "answer = input(\"Would you like to upload the instances you created to the KGE? yes (y) or no (n) \" ) \n",
    "\n",
    "if answer == \"y\":\n",
    "    \n",
    "    if token != \"\":\n",
    "        orcid_instances = glob.glob(os.path.join(output_path,\"ORCID\") + \"*\\\\*\", recursive = True)\n",
    "        if not orcid_instances == []:\n",
    "            response = upload(orcid_instances, token, space_name = \"common\")  \n",
    "        \n",
    "        person_instances = glob.glob(os.path.join(output_path,\"person\") + \"*\\\\*\", recursive = True)\n",
    "        if not person_instances == []:\n",
    "            response = upload(person_instances, token, space_name = \"common\")  \n",
    "        \n",
    "        email_instances = glob.glob(os.path.join(output_path,\"contactInformation\") + \"*\\\\*\", recursive = True)\n",
    "        if not email_instances == []:\n",
    "            response = upload(email_instances, token, space_name = \"restricted\")  \n",
    "\n",
    "        print(\"Done!\")\n",
    "\n",
    "    else:\n",
    "        print(\"Token is empty, refresh token before trying to upload instances\")\n",
    "        \n",
    "elif answer == \"n\":\n",
    "    print(\"\\nDone!\")"
   ]
  }
 ],
 "metadata": {
  "kernelspec": {
   "display_name": "Python 3.8.3 ('base')",
   "language": "python",
   "name": "python3"
  },
  "language_info": {
   "codemirror_mode": {
    "name": "ipython",
    "version": 3
   },
   "file_extension": ".py",
   "mimetype": "text/x-python",
   "name": "python",
   "nbconvert_exporter": "python",
   "pygments_lexer": "ipython3",
   "version": "3.8.3"
  },
  "orig_nbformat": 4,
  "vscode": {
   "interpreter": {
    "hash": "65747024ff2feda9d45d54fef14313a73f026ac80ef7ca2f452fcc1ca90b45f3"
   }
  }
 },
 "nbformat": 4,
 "nbformat_minor": 2
}
